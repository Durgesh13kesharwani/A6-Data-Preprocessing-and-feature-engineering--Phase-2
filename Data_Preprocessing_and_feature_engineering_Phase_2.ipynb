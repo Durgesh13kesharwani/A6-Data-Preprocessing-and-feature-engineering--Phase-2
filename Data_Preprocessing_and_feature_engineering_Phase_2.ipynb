{
  "nbformat": 4,
  "nbformat_minor": 0,
  "metadata": {
    "colab": {
      "provenance": []
    },
    "kernelspec": {
      "name": "python3",
      "display_name": "Python 3"
    },
    "language_info": {
      "name": "python"
    }
  },
  "cells": [
    {
      "cell_type": "code",
      "execution_count": 2,
      "metadata": {
        "id": "yRZGSxBEPJQL"
      },
      "outputs": [],
      "source": [
        "import pandas as pd\n",
        "import numpy as np\n",
        "import seaborn as sns\n",
        "import matplotlib.pyplot as plt\n",
        "from sklearn.preprocessing import LabelEncoder, StandardScaler\n",
        "from sklearn.impute import SimpleImputer\n",
        "from sklearn.neighbors import LocalOutlierFactor\n",
        "from sklearn.feature_selection import SelectKBest, f_classif"
      ]
    },
    {
      "cell_type": "code",
      "source": [
        "# Load the datasets\n",
        "def load_application_train():\n",
        "    data = pd.read_csv(\"application_train.csv\")\n",
        "    return data\n",
        "\n",
        "def load():\n",
        "    data = pd.read_csv(\"titanic.csv\")\n",
        "    return data"
      ],
      "metadata": {
        "id": "N4yTVEHMP2ry"
      },
      "execution_count": 3,
      "outputs": []
    },
    {
      "cell_type": "code",
      "source": [
        "# See the shape of the datasets\n",
        "df_application = load_application_train()\n",
        "print(df_application.shape)  # (307511, 122)\n",
        "sns.boxplot(x=df_application[\"OWN_CAR_AGE\"])\n",
        "plt.show()\n",
        "\n",
        "df_titanic = load()\n",
        "print(df_titanic.shape)  # (891, 12)\n",
        "sns.boxplot(x=df_titanic[\"Age\"])\n",
        "plt.show()"
      ],
      "metadata": {
        "colab": {
          "base_uri": "https://localhost:8080/",
          "height": 916
        },
        "id": "TdxggWQrP-0K",
        "outputId": "daa479c6-b3b4-4df8-cdfe-6076d8d79037"
      },
      "execution_count": 4,
      "outputs": [
        {
          "output_type": "stream",
          "name": "stdout",
          "text": [
            "(17474, 122)\n"
          ]
        },
        {
          "output_type": "display_data",
          "data": {
            "text/plain": [
              "<Figure size 640x480 with 1 Axes>"
            ],
            "image/png": "[encoded data removed]"
          },
          "metadata": {}
        },
        {
          "output_type": "stream",
          "name": "stdout",
          "text": [
            "(891, 12)\n"
          ]
        },
        {
          "output_type": "display_data",
          "data": {
            "text/plain": [
              "<Figure size 640x480 with 1 Axes>"
            ],
            "image/png": "[encoded data removed]"
          },
          "metadata": {}
        }
      ]
    },
    {
      "cell_type": "code",
      "source": [
        "# Data Preprocessing for application_train dataset\n",
        "\n",
        "# Handle Missing Values\n",
        "# For numerical features\n",
        "num_imputer = SimpleImputer(strategy='mean')\n",
        "numerical_columns = df_application.select_dtypes(include=[np.number]).columns\n",
        "df_application[numerical_columns] = num_imputer.fit_transform(df_application[numerical_columns])\n",
        "\n",
        "# For categorical features\n",
        "cat_imputer = SimpleImputer(strategy='most_frequent')\n",
        "categorical_columns = df_application.select_dtypes(include=[object]).columns\n",
        "for column in categorical_columns:\n",
        "    df_application[column] = cat_imputer.fit_transform(df_application[[column]]).ravel()\n",
        "\n",
        "# Encode Categorical Variables\n",
        "label_encoder = LabelEncoder()\n",
        "for column in categorical_columns:\n",
        "    df_application[column] = label_encoder.fit_transform(df_application[column])\n",
        "\n",
        "# Detect and Remove Outliers using LOF\n",
        "lof = LocalOutlierFactor()\n",
        "outliers = lof.fit_predict(df_application[numerical_columns])\n",
        "mask = outliers != -1\n",
        "df_application = df_application[mask]\n",
        "\n",
        "# Scale Numerical Features\n",
        "scaler = StandardScaler()\n",
        "df_application[numerical_columns] = scaler.fit_transform(df_application[numerical_columns])\n",
        "\n",
        "# Feature Selection (if needed)\n",
        "X_application = df_application.drop('TARGET', axis=1)\n",
        "y_application = df_application['TARGET']\n",
        "\n",
        "best_features_application = SelectKBest(score_func=f_classif, k='all')\n",
        "fit_application = best_features_application.fit(X_application, y_application)\n",
        "df_scores_application = pd.DataFrame(fit_application.scores_)\n",
        "df_columns_application = pd.DataFrame(X_application.columns)\n",
        "\n",
        "feature_scores_application = pd.concat([df_columns_application, df_scores_application], axis=1)\n",
        "feature_scores_application.columns = ['Feature', 'Score']\n",
        "print(feature_scores_application)\n"
      ],
      "metadata": {
        "colab": {
          "base_uri": "https://localhost:8080/"
        },
        "id": "t5sGIKF-QFIO",
        "outputId": "86a05ff2-efa6-45c6-ba2d-578a2b249b79"
      },
      "execution_count": 5,
      "outputs": [
        {
          "output_type": "stream",
          "name": "stdout",
          "text": [
            "                        Feature      Score\n",
            "0                    SK_ID_CURR   0.010848\n",
            "1            NAME_CONTRACT_TYPE  24.070083\n",
            "2                   CODE_GENDER  57.855825\n",
            "3                  FLAG_OWN_CAR   2.212562\n",
            "4               FLAG_OWN_REALTY   2.182475\n",
            "..                          ...        ...\n",
            "116   AMT_REQ_CREDIT_BUREAU_DAY   4.296080\n",
            "117  AMT_REQ_CREDIT_BUREAU_WEEK   1.029948\n",
            "118   AMT_REQ_CREDIT_BUREAU_MON   2.763377\n",
            "119   AMT_REQ_CREDIT_BUREAU_QRT   0.539060\n",
            "120  AMT_REQ_CREDIT_BUREAU_YEAR   7.444032\n",
            "\n",
            "[121 rows x 2 columns]\n"
          ]
        },
        {
          "output_type": "stream",
          "name": "stderr",
          "text": [
            "<ipython-input-5-b70dc8b5021d>:28: SettingWithCopyWarning: \n",
            "A value is trying to be set on a copy of a slice from a DataFrame.\n",
            "Try using .loc[row_indexer,col_indexer] = value instead\n",
            "\n",
            "See the caveats in the documentation: https://pandas.pydata.org/pandas-docs/stable/user_guide/indexing.html#returning-a-view-versus-a-copy\n",
            "  df_application[numerical_columns] = scaler.fit_transform(df_application[numerical_columns])\n",
            "/usr/local/lib/python3.10/dist-packages/sklearn/feature_selection/_univariate_selection.py:112: UserWarning: Features [ 95 103 105] are constant.\n",
            "  warnings.warn(\"Features %s are constant.\" % constant_features_idx, UserWarning)\n",
            "/usr/local/lib/python3.10/dist-packages/sklearn/feature_selection/_univariate_selection.py:113: RuntimeWarning: invalid value encountered in divide\n",
            "  f = msb / msw\n"
          ]
        }
      ]
    },
    {
      "cell_type": "code",
      "source": [
        "# Final Data Preparation\n",
        "X_application = df_application.drop('TARGET', axis=1)\n",
        "y_application = df_application['TARGET']"
      ],
      "metadata": {
        "id": "xJcRM_8sRIi_"
      },
      "execution_count": 6,
      "outputs": []
    },
    {
      "cell_type": "code",
      "source": [
        "# Data Preprocessing for titanic dataset\n",
        "\n",
        "# Handle Missing Values\n",
        "# For numerical features\n",
        "numerical_columns_titanic = df_titanic.select_dtypes(include=[np.number]).columns\n",
        "df_titanic[numerical_columns_titanic] = num_imputer.fit_transform(df_titanic[numerical_columns_titanic])\n",
        "\n",
        "# For categorical features\n",
        "categorical_columns_titanic = df_titanic.select_dtypes(include=[object]).columns\n",
        "for column in categorical_columns_titanic:\n",
        "    df_titanic[column] = cat_imputer.fit_transform(df_titanic[[column]]).ravel()\n",
        "\n",
        "# Encode Categorical Variables\n",
        "for column in categorical_columns_titanic:\n",
        "    df_titanic[column] = label_encoder.fit_transform(df_titanic[column])\n",
        "\n",
        "# Detect and Remove Outliers using LOF\n",
        "outliers_titanic = lof.fit_predict(df_titanic[numerical_columns_titanic])\n",
        "mask_titanic = outliers_titanic != -1\n",
        "df_titanic = df_titanic[mask_titanic]\n",
        "\n",
        "# Scale Numerical Features\n",
        "df_titanic[numerical_columns_titanic] = scaler.fit_transform(df_titanic[numerical_columns_titanic])\n",
        "\n",
        "# Feature Selection (if needed)\n",
        "X_titanic = df_titanic.drop('Survived', axis=1)\n",
        "y_titanic = df_titanic['Survived']\n",
        "\n",
        "best_features_titanic = SelectKBest(score_func=f_classif, k='all')\n",
        "fit_titanic = best_features_titanic.fit(X_titanic, y_titanic)\n",
        "df_scores_titanic = pd.DataFrame(fit_titanic.scores_)\n",
        "df_columns_titanic = pd.DataFrame(X_titanic.columns)\n",
        "\n",
        "feature_scores_titanic = pd.concat([df_columns_titanic, df_scores_titanic], axis=1)\n",
        "feature_scores_titanic.columns = ['Feature', 'Score']\n",
        "print(feature_scores_titanic)"
      ],
      "metadata": {
        "colab": {
          "base_uri": "https://localhost:8080/"
        },
        "id": "Ab15CvtRRRMN",
        "outputId": "5dc4071a-7124-413e-8dab-f00336fcbd63"
      },
      "execution_count": 7,
      "outputs": [
        {
          "output_type": "stream",
          "name": "stdout",
          "text": [
            "        Feature       Score\n",
            "0   PassengerId    0.289820\n",
            "1        Pclass   86.048540\n",
            "2          Name    2.787366\n",
            "3           Sex  324.103107\n",
            "4           Age    6.483032\n",
            "5         SibSp    2.180161\n",
            "6         Parch    5.746599\n",
            "7        Ticket   22.830404\n",
            "8          Fare   55.558396\n",
            "9         Cabin   31.375437\n",
            "10     Embarked   19.793207\n"
          ]
        },
        {
          "output_type": "stream",
          "name": "stderr",
          "text": [
            "<ipython-input-7-ba9c8807da10>:23: SettingWithCopyWarning: \n",
            "A value is trying to be set on a copy of a slice from a DataFrame.\n",
            "Try using .loc[row_indexer,col_indexer] = value instead\n",
            "\n",
            "See the caveats in the documentation: https://pandas.pydata.org/pandas-docs/stable/user_guide/indexing.html#returning-a-view-versus-a-copy\n",
            "  df_titanic[numerical_columns_titanic] = scaler.fit_transform(df_titanic[numerical_columns_titanic])\n"
          ]
        }
      ]
    },
    {
      "cell_type": "code",
      "source": [
        "# Final Data Preparation\n",
        "X_titanic = df_titanic.drop('Survived', axis=1)\n",
        "y_titanic = df_titanic['Survived']"
      ],
      "metadata": {
        "id": "19vxu9tyRWKu"
      },
      "execution_count": 8,
      "outputs": []
    }
  ]
}